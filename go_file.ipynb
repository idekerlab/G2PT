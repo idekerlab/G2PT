{
 "cells": [
  {
   "cell_type": "markdown",
   "id": "1aa597ea",
   "metadata": {
    "pycharm": {
     "name": "#%% md\n"
    }
   },
   "source": [
    "# Preparing Gene Ontology (GO) Helper Files"
   ]
  },
  {
   "cell_type": "markdown",
   "id": "c9ad4cf0",
   "metadata": {
    "pycharm": {
     "name": "#%% md\n"
    }
   },
   "source": [
    "In this notebook we generate a series of helper files for downstream analysis:\n",
    "\n",
    "* **`goID_2_name.tab`** – mapping from every GO term ID to its textual name.\n",
    "* **`GO_PC_full.txt`** – parent → child edges for *biological‑process*, *molecular function* and *cellular component* terms, containing only `is_a` and `part_of` relationships, with cycles removed.\n",
    "* **`GO_BP_PC_CC_full.txt`** – combines the ontology parent–child edges with human gene → BP - MF - CC annotations, ready for graph‑based enrichment tools.\n",
    "\n",
    "The whole workflow is reproducible end‑to‑end. Feel free to adapt paths or filters to your needs.\n"
   ]
  },
  {
   "cell_type": "markdown",
   "id": "3a39279b",
   "metadata": {
    "pycharm": {
     "name": "#%% md\n"
    }
   },
   "source": [
    "## Download the latest ontology (`go.obo`)\n"
   ]
  },
  {
   "cell_type": "code",
   "execution_count": 1,
   "id": "3dbf7810",
   "metadata": {
    "pycharm": {
     "name": "#%%\n"
    }
   },
   "outputs": [
    {
     "name": "stdout",
     "output_type": "stream",
     "text": [
      "Downloading Gene Ontology…\n",
      "Saved to GO_files/go.obo\n"
     ]
    }
   ],
   "source": [
    "import pathlib, urllib.request, sys\n",
    "\n",
    "data_dir = pathlib.Path('GO_files')\n",
    "data_dir.mkdir(exist_ok=True)\n",
    "\n",
    "obo_path = data_dir / 'go.obo'\n",
    "if not obo_path.exists():\n",
    "    print('Downloading Gene Ontology…')\n",
    "    urllib.request.urlretrieve('http://purl.obolibrary.org/obo/go.obo', obo_path)\n",
    "    print('Saved to', obo_path)\n",
    "else:\n",
    "    print('Ontology already present – skipping download.')\n"
   ]
  },
  {
   "cell_type": "markdown",
   "id": "a947f6ee",
   "metadata": {
    "pycharm": {
     "name": "#%% md\n"
    }
   },
   "source": [
    "## Required Python packages\n"
   ]
  },
  {
   "cell_type": "code",
   "execution_count": 2,
   "id": "dc4e3860",
   "metadata": {
    "pycharm": {
     "name": "#%%\n"
    }
   },
   "outputs": [
    {
     "name": "stdout",
     "output_type": "stream",
     "text": [
      "Versions → obonet 1.1.1 | networkx 3.1 | pandas 2.0.3\n"
     ]
    }
   ],
   "source": [
    "# Add any further packages here; most environments already have them.\n",
    "import obonet\n",
    "import networkx as nx\n",
    "import pandas as pd\n",
    "print('Versions → obonet', obonet.__version__, '| networkx', nx.__version__, '| pandas', pd.__version__)\n"
   ]
  },
  {
   "cell_type": "markdown",
   "id": "9b00150d",
   "metadata": {
    "pycharm": {
     "name": "#%% md\n"
    }
   },
   "source": [
    "## Load ontology into a NetworkX graph\n"
   ]
  },
  {
   "cell_type": "code",
   "execution_count": 3,
   "id": "d22bf362",
   "metadata": {
    "pycharm": {
     "name": "#%%\n"
    }
   },
   "outputs": [
    {
     "name": "stdout",
     "output_type": "stream",
     "text": [
      "Loaded 40,122 nodes and 79,604 edges.\n"
     ]
    }
   ],
   "source": [
    "obo_graph = obonet.read_obo(obo_path)\n",
    "print(f'Loaded {obo_graph.number_of_nodes():,} nodes and {obo_graph.number_of_edges():,} edges.')\n"
   ]
  },
  {
   "cell_type": "markdown",
   "id": "065af00f",
   "metadata": {
    "pycharm": {
     "name": "#%% md\n"
    }
   },
   "source": [
    "## Build `goID_2_name.tab`\n"
   ]
  },
  {
   "cell_type": "code",
   "execution_count": 4,
   "id": "2cb6ec0c",
   "metadata": {
    "pycharm": {
     "name": "#%%\n"
    }
   },
   "outputs": [
    {
     "name": "stdout",
     "output_type": "stream",
     "text": [
      "Wrote GO_files/goID_2_name.tab\n"
     ]
    }
   ],
   "source": [
    "out_path = data_dir / 'goID_2_name.tab'\n",
    "with out_path.open('w') as fh:\n",
    "    for go_id, attrs in obo_graph.nodes(data=True):\n",
    "        fh.write(f\"{go_id}\t{attrs.get('name','')}\\n\")\n",
    "print('Wrote', out_path)\n"
   ]
  },
  {
   "cell_type": "markdown",
   "id": "86dc9e25",
   "metadata": {
    "pycharm": {
     "name": "#%% md\n"
    }
   },
   "source": [
    "## Extract parent → child edges for *all* GO namespaces (BP, MF, CC) (`GO_PC_full.txt`)"
   ]
  },
  {
   "cell_type": "code",
   "execution_count": 5,
   "id": "94211cbe",
   "metadata": {
    "pycharm": {
     "name": "#%%\n"
    }
   },
   "outputs": [
    {
     "name": "stdout",
     "output_type": "stream",
     "text": [
      "Parent‑child edges saved: GO_files/GO_PC_full.txt | count: 77932\n"
     ]
    }
   ],
   "source": [
    "# NOTE: This cell now captures edges from **all** three GO namespaces.\n",
    "allowed_ns = {'biological_process', 'molecular_function', 'cellular_component'}\n",
    "\n",
    "bp_edges = []\n",
    "for child, parent, edge_attrs in obo_graph.edges(data=True):\n",
    "    # Keep GO terms within the three main namespaces only\n",
    "    if (obo_graph.nodes[child].get('namespace') not in allowed_ns or\n",
    "        obo_graph.nodes[parent].get('namespace') not in allowed_ns):\n",
    "        continue\n",
    "\n",
    "    # Keep edges that do not cross namespaces\n",
    "    if obo_graph.nodes[child].get('namespace') != obo_graph.nodes[parent].get('namespace'):\n",
    "        continue\n",
    "\n",
    "    # Keep strictly hierarchical relations\n",
    "    relation = edge_attrs.get('relation', 'is_a')\n",
    "    if relation not in {'is_a', 'part_of'}:\n",
    "        continue\n",
    "\n",
    "    # Exclude edges that would introduce a reverse path (cycle)\n",
    "    if not nx.has_path(obo_graph, parent, child):\n",
    "        bp_edges.append((parent, child))\n",
    "\n",
    "pc_path = data_dir / 'GO_PC_full.txt'\n",
    "with pc_path.open('w') as fh:\n",
    "    fh.writelines(f\"{p}\\t{c}\\n\" for p, c in bp_edges)\n",
    "\n",
    "print('Parent‑child edges saved:', pc_path, '| count:', len(bp_edges))\n"
   ]
  },
  {
   "cell_type": "markdown",
   "id": "588ec1d3",
   "metadata": {
    "pycharm": {
     "name": "#%% md\n"
    }
   },
   "source": [
    "## Guarantee that the BP graph is acyclic\n"
   ]
  },
  {
   "cell_type": "code",
   "execution_count": 6,
   "id": "bf644bda",
   "metadata": {
    "pycharm": {
     "name": "#%%\n"
    }
   },
   "outputs": [
    {
     "name": "stdout",
     "output_type": "stream",
     "text": [
      "Graph is now a DAG → True\n"
     ]
    }
   ],
   "source": [
    "G = nx.DiGraph(bp_edges)\n",
    "\n",
    "# Break any residual cycles that slipped through (rare)\n",
    "while not nx.is_directed_acyclic_graph(G):\n",
    "    cycle = next(nx.simple_cycles(G))\n",
    "    print('Breaking residual cycle:', cycle)\n",
    "    # Remove the last edge in the cycle\n",
    "    G.remove_edge(cycle[-1], cycle[0])\n",
    "\n",
    "# Overwrite file with cleaned edges\n",
    "with (data_dir / 'GO_PC_full.txt').open('w') as fh:\n",
    "    fh.writelines(f\"{u}\\t{v}\\n\" for u, v in G.edges())\n",
    "\n",
    "print('Graph is now a DAG →', nx.is_directed_acyclic_graph(G))\n"
   ]
  },
  {
   "cell_type": "markdown",
   "id": "71366b48",
   "metadata": {
    "pycharm": {
     "name": "#%% md\n"
    }
   },
   "source": [
    "## Download human Gene Ontology annotations (GAF format)\n"
   ]
  },
  {
   "cell_type": "code",
   "execution_count": 7,
   "id": "f795e286",
   "metadata": {
    "pycharm": {
     "name": "#%%\n"
    }
   },
   "outputs": [
    {
     "name": "stdout",
     "output_type": "stream",
     "text": [
      "Downloading GOA Human GAF…\n",
      "Saved to GO_files/goa_human.gaf.gz\n"
     ]
    }
   ],
   "source": [
    "gaf_path = data_dir / 'goa_human.gaf.gz'\n",
    "if not gaf_path.exists():\n",
    "    print('Downloading GOA Human GAF…')\n",
    "    urllib.request.urlretrieve('http://current.geneontology.org/annotations/goa_human.gaf.gz', gaf_path)\n",
    "    print('Saved to', gaf_path)\n",
    "else:\n",
    "    print('GAF already present – skipping download.')\n"
   ]
  },
  {
   "cell_type": "markdown",
   "id": "8f747340",
   "metadata": {
    "pycharm": {
     "name": "#%% md\n"
    }
   },
   "source": [
    "## Parse and filter GAF for human BP annotations\n"
   ]
  },
  {
   "cell_type": "code",
   "execution_count": 8,
   "id": "0a004148",
   "metadata": {
    "pycharm": {
     "name": "#%%\n"
    }
   },
   "outputs": [
    {
     "name": "stdout",
     "output_type": "stream",
     "text": [
      "993,512 gene→GO annotations retained across BP, MF, CC.\n"
     ]
    }
   ],
   "source": [
    "\n",
    "# Column indices (0-based):\n",
    "#   2 → DB_Object_Symbol  | gene symbol\n",
    "#   4 → GO_ID             | GO term\n",
    "#  12 → Taxon             | organism ID(s)\n",
    "\n",
    "gaf = pd.read_csv(\n",
    "    gaf_path,\n",
    "    sep='\\t',\n",
    "    comment='!',\n",
    "    header=None,\n",
    "    compression='gzip',\n",
    "    low_memory=False\n",
    ")\n",
    "\n",
    "# Keep human annotations only (taxon:9606)\n",
    "gaf = gaf[gaf[12].str.contains('taxon:9606')]\n",
    "\n",
    "# Rename columns for clarity\n",
    "gaf = gaf.rename(columns={2: 'gene_symbol', 4: 'go_id'})\n",
    "\n",
    "# Restrict to the three main GO namespaces\n",
    "allowed_ns = {'biological_process', 'molecular_function', 'cellular_component'}\n",
    "allowed_terms = {n for n, d in obo_graph.nodes(data=True) if d.get('namespace') in allowed_ns}\n",
    "gaf_bp = gaf[gaf['go_id'].isin(allowed_terms)].copy()\n",
    "\n",
    "print(f'{len(gaf_bp):,} gene→GO annotations retained across BP, MF, CC.')\n"
   ]
  },
  {
   "cell_type": "markdown",
   "id": "221b27b8",
   "metadata": {
    "pycharm": {
     "name": "#%% md\n"
    }
   },
   "source": [
    "## Combine ontology edges with gene annotations (`GO_BP_MF_CP_full.txt`)\n"
   ]
  },
  {
   "cell_type": "code",
   "execution_count": 9,
   "id": "528241d4",
   "metadata": {
    "pycharm": {
     "name": "#%%\n"
    }
   },
   "outputs": [
    {
     "name": "stdout",
     "output_type": "stream",
     "text": [
      "Wrote combined file → GO_files/GO_BP_MF_CC_full.txt\n"
     ]
    }
   ],
   "source": [
    "bp_file = data_dir / 'GO_BP_MF_CC_full.txt'\n",
    "\n",
    "ns_map = {\n",
    "    'biological_process': 'BP',\n",
    "    'molecular_function': 'MF',\n",
    "    'cellular_component': 'CC'\n",
    "}\n",
    "\n",
    "with bp_file.open('w') as fh:\n",
    "    # 1) Write the ontology parent→child edges, tagging the namespace (BP/MF/CC)\n",
    "    for p, c in G.edges():\n",
    "        tag = ns_map.get(obo_graph.nodes[p].get('namespace'), 'NA')\n",
    "        fh.write(f\"{p}\\t{c}\\t{tag}\\n\")\n",
    "\n",
    "    # 2) Append gene→GO edges (tagged as \"gene\")\n",
    "    for _, row in gaf_bp.iterrows():\n",
    "        fh.write(f\"{row.go_id}\\t{row.gene_symbol}\\tgene\\n\")\n",
    "\n",
    "print('Wrote combined file →', bp_file)"
   ]
  },
  {
   "cell_type": "markdown",
   "id": "d2360f23",
   "metadata": {
    "pycharm": {
     "name": "#%% md\n"
    }
   },
   "source": [
    "## Sanity check: resulting file defines a DAG\n"
   ]
  },
  {
   "cell_type": "code",
   "execution_count": 10,
   "id": "bea9d6e4",
   "metadata": {
    "pycharm": {
     "name": "#%%\n"
    }
   },
   "outputs": [
    {
     "name": "stdout",
     "output_type": "stream",
     "text": [
      "Is directed acyclic graph? True\n"
     ]
    }
   ],
   "source": [
    "df = pd.read_csv(bp_file, sep='\\t', header=None, names=['parent','child','edge_type'])\n",
    "check_graph = nx.DiGraph()\n",
    "check_graph.add_edges_from(zip(df['parent'], df['child']))\n",
    "print('Is directed acyclic graph?', nx.is_directed_acyclic_graph(check_graph))\n"
   ]
  },
  {
   "cell_type": "code",
   "execution_count": null,
   "id": "c5902133-4977-441c-ae16-f6771f3e1d6e",
   "metadata": {
    "pycharm": {
     "name": "#%%\n"
    }
   },
   "outputs": [],
   "source": []
  }
 ],
 "metadata": {
  "kernelspec": {
   "display_name": "Python (G2PT_github)",
   "language": "python",
   "name": "g2pt_github"
  },
  "language_info": {
   "codemirror_mode": {
    "name": "ipython",
    "version": 3
   },
   "file_extension": ".py",
   "mimetype": "text/x-python",
   "name": "python",
   "nbconvert_exporter": "python",
   "pygments_lexer": "ipython3",
   "version": "3.8.19"
  }
 },
 "nbformat": 4,
 "nbformat_minor": 5
}
